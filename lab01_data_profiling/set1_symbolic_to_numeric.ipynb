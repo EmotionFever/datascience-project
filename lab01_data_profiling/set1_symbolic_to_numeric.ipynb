{
 "cells": [
  {
   "cell_type": "code",
   "execution_count": 22,
   "metadata": {},
   "outputs": [],
   "source": [
    "from pandas import read_csv, Timestamp\n",
    "from numpy import nan\n",
    "from pandas.plotting import register_matplotlib_converters\n",
    "from matplotlib.pyplot import subplots, savefig, show\n",
    "from ds_charts import get_variable_types, HEIGHT\n",
    "from matplotlib.pyplot import figure, savefig, show, title\n",
    "from seaborn import heatmap"
   ]
  },
  {
   "cell_type": "code",
   "execution_count": 23,
   "metadata": {},
   "outputs": [],
   "source": [
    "register_matplotlib_converters()\n",
    "filename = \"data/set1_NYC_collisions_tabular.csv\"\n",
    "data = read_csv(filename, parse_dates=['CRASH_DATE'], infer_datetime_format=True)"
   ]
  },
  {
   "cell_type": "code",
   "execution_count": 24,
   "metadata": {},
   "outputs": [],
   "source": [
    "data['CRASH_MONTH'] = data['CRASH_DATE'].dt.month\n",
    "data['CRASH_DAY'] = data['CRASH_DATE'].dt.day\n",
    "data.drop(columns=['CRASH_DATE'], inplace=True)\n",
    "data['CRASH_TIME'] = data['CRASH_TIME'].str.split(':').str[0].astype(int)\n",
    "data['PERSON_INJURY'] = data['PERSON_INJURY'].astype('category').cat.codes"
   ]
  },
  {
   "cell_type": "code",
   "execution_count": 25,
   "metadata": {},
   "outputs": [],
   "source": [
    "complaint_encode = { # how severe are the complaints\n",
    "    'Complaint of Pain or Nausea': 1,\n",
    "    'Minor Bleeding':2,\n",
    "    'None Visible': 0,\n",
    "    'Contusion - Bruise': 2,\n",
    "    'Severe Bleeding': 7,\n",
    "    'Internal': 6,\n",
    "    'Severe Lacerations':7,\n",
    "    'Abrasion': 2,\n",
    "    'Fracture - Distorted - Dislocation': 4,\n",
    "    'Whiplash': 2, #passes after some weeks\n",
    "    'Unknown': nan,\n",
    "    'Concussion': 10,\n",
    "    'Crush Injuries': 6,\n",
    "    'Minor Burn': 2,\n",
    "    'Paralysis': 9,\n",
    "    'Amputation': 7,\n",
    "    'Moderate Burn': 4,\n",
    "    'Severe Burn': 6,\n",
    "    'Does Not Apply': nan\n",
    "}\n",
    "data[\"COMPLAINT\"].replace(complaint_encode, inplace=True)\n",
    "\n",
    "emotion_status_encode = { # how well is the person emotionally\n",
    "    'Conscious':10,\n",
    "    'Apparent Death': 0,\n",
    "    'Semiconscious': 4,\n",
    "    'Shock': 8,\n",
    "    'Unknown': nan,\n",
    "    'Unconscious': 2,\n",
    "    'Incoherent': 7,\n",
    "    'Does Not Apply': nan\n",
    "}\n",
    "data[\"EMOTIONAL_STATUS\"].replace(emotion_status_encode, inplace=True)\n",
    "\n",
    "safety_equipment_encode = { # how secure is the equipement\n",
    "    'Lap Belt & Harness': 10,\n",
    "    'Helmet (Motorcycle Only)': 1,\n",
    "    'Air Bag Deployed/Lap Belt/Harness':10,\n",
    "    'Unknown':nan,\n",
    "    'None': 0,\n",
    "    'Lap Belt':10,\n",
    "    'Helmet Only (In-Line Skater/Bicyclist)': 1,\n",
    "    'Child Restraint Only': 7,\n",
    "    'Helmet/Other (In-Line Skater/Bicyclist)':5,\n",
    "    'Air Bag Deployed/Child Restraint':10,\n",
    "    'Air Bag Deployed': 3,\n",
    "    'Other': 5,\n",
    "    'Harness': 10,\n",
    "    'Air Bag Deployed/Lap Belt': 10,\n",
    "    'Pads Only (In-Line Skater/Bicyclist)': 4,\n",
    "    'Stoppers Only (In-Line Skater/Bicyclist)': 1\n",
    "}\n",
    "data[\"SAFETY_EQUIPMENT\"].replace(safety_equipment_encode, inplace=True)\n",
    "data.to_csv('new_data/set1_symbolic_to_numeric.csv', index=False)"
   ]
  },
  {
   "cell_type": "code",
   "execution_count": 27,
   "metadata": {},
   "outputs": [
    {
     "data": {
      "text/plain": [
       "Index(['CRASH_TIME', 'PERSON_AGE', 'BODILY_INJURY', 'SAFETY_EQUIPMENT',\n",
       "       'PERSON_SEX', 'PERSON_TYPE', 'PED_LOCATION', 'CONTRIBUTING_FACTOR_2',\n",
       "       'EJECTION', 'COMPLAINT', 'EMOTIONAL_STATUS', 'VEHICLE_ID', 'PERSON_ID',\n",
       "       'CONTRIBUTING_FACTOR_1', 'POSITION_IN_VEHICLE', 'PED_ROLE', 'UNIQUE_ID',\n",
       "       'PED_ACTION', 'COLLISION_ID', 'PERSON_INJURY', 'CRASH_MONTH',\n",
       "       'CRASH_DAY'],\n",
       "      dtype='object')"
      ]
     },
     "execution_count": 27,
     "metadata": {},
     "output_type": "execute_result"
    }
   ],
   "source": [
    "data.columns"
   ]
  },
  {
   "cell_type": "code",
   "execution_count": null,
   "metadata": {},
   "outputs": [],
   "source": []
  }
 ],
 "metadata": {
  "interpreter": {
   "hash": "31f2aee4e71d21fbe5cf8b01ff0e069b9275f58929596ceb00d14d90e3e16cd6"
  },
  "kernelspec": {
   "display_name": "Python 3.8.10 64-bit",
   "language": "python",
   "name": "python3"
  },
  "language_info": {
   "codemirror_mode": {
    "name": "ipython",
    "version": 3
   },
   "file_extension": ".py",
   "mimetype": "text/x-python",
   "name": "python",
   "nbconvert_exporter": "python",
   "pygments_lexer": "ipython3",
   "version": "3.8.10"
  },
  "orig_nbformat": 4
 },
 "nbformat": 4,
 "nbformat_minor": 2
}
