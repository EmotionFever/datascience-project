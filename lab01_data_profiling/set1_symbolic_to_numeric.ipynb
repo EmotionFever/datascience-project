{
 "cells": [
  {
   "cell_type": "code",
   "execution_count": 10,
   "metadata": {},
   "outputs": [],
   "source": [
    "from pandas import read_csv, Timestamp\n",
    "from numpy import nan\n",
    "from pandas.plotting import register_matplotlib_converters\n",
    "from matplotlib.pyplot import subplots, savefig, show\n",
    "from ds_charts import get_variable_types, HEIGHT\n",
    "from matplotlib.pyplot import figure, savefig, show, title\n",
    "from seaborn import heatmap"
   ]
  },
  {
   "cell_type": "code",
   "execution_count": 11,
   "metadata": {},
   "outputs": [],
   "source": [
    "register_matplotlib_converters()\n",
    "filename = \"data/set1_NYC_collisions_tabular.csv\"\n",
    "data = read_csv(filename, parse_dates=['CRASH_DATE'], infer_datetime_format=True)"
   ]
  },
  {
   "cell_type": "code",
   "execution_count": 12,
   "metadata": {},
   "outputs": [],
   "source": [
    "data['CRASH_MONTH'] = data['CRASH_DATE'].dt.month\n",
    "data['CRASH_DAY'] = data['CRASH_DATE'].dt.day\n",
    "data.drop(columns=['CRASH_DATE'], inplace=True)\n",
    "data['CRASH_TIME'] = data['CRASH_TIME'].str.split(':').str[0].astype(int)\n",
    "data['PERSON_INJURY'] = data['PERSON_INJURY'].astype('category').cat.codes"
   ]
  },
  {
   "cell_type": "code",
   "execution_count": 13,
   "metadata": {},
   "outputs": [
    {
     "ename": "FileNotFoundError",
     "evalue": "[Errno 2] No such file or directory: 'lab02_data_preparation\\\\ew_data\\\\set1_symbolic_to_numeric.csv'",
     "output_type": "error",
     "traceback": [
      "\u001b[1;31m---------------------------------------------------------------------------\u001b[0m",
      "\u001b[1;31mFileNotFoundError\u001b[0m                         Traceback (most recent call last)",
      "\u001b[1;32m<ipython-input-13-522375d5dfe1>\u001b[0m in \u001b[0;36m<module>\u001b[1;34m\u001b[0m\n\u001b[0;32m     53\u001b[0m }\n\u001b[0;32m     54\u001b[0m \u001b[1;31m#data[\"SAFETY_EQUIPMENT\"].replace(safety_equipment_encode, inplace=True)\u001b[0m\u001b[1;33m\u001b[0m\u001b[1;33m\u001b[0m\u001b[1;33m\u001b[0m\u001b[0m\n\u001b[1;32m---> 55\u001b[1;33m \u001b[0mdata\u001b[0m\u001b[1;33m.\u001b[0m\u001b[0mto_csv\u001b[0m\u001b[1;33m(\u001b[0m\u001b[1;34m'lab02_data_preparation\\ew_data\\set1_symbolic_to_numeric.csv'\u001b[0m\u001b[1;33m,\u001b[0m \u001b[0mindex\u001b[0m\u001b[1;33m=\u001b[0m\u001b[1;32mFalse\u001b[0m\u001b[1;33m)\u001b[0m\u001b[1;33m\u001b[0m\u001b[1;33m\u001b[0m\u001b[0m\n\u001b[0m\u001b[0;32m     56\u001b[0m \u001b[1;31m# lab02_data_preparation\\ew_data\u001b[0m\u001b[1;33m\u001b[0m\u001b[1;33m\u001b[0m\u001b[1;33m\u001b[0m\u001b[0m\n",
      "\u001b[1;32m~\\anaconda3\\lib\\site-packages\\pandas\\core\\generic.py\u001b[0m in \u001b[0;36mto_csv\u001b[1;34m(self, path_or_buf, sep, na_rep, float_format, columns, header, index, index_label, mode, encoding, compression, quoting, quotechar, line_terminator, chunksize, date_format, doublequote, escapechar, decimal, errors, storage_options)\u001b[0m\n\u001b[0;32m   3385\u001b[0m         )\n\u001b[0;32m   3386\u001b[0m \u001b[1;33m\u001b[0m\u001b[0m\n\u001b[1;32m-> 3387\u001b[1;33m         return DataFrameRenderer(formatter).to_csv(\n\u001b[0m\u001b[0;32m   3388\u001b[0m             \u001b[0mpath_or_buf\u001b[0m\u001b[1;33m,\u001b[0m\u001b[1;33m\u001b[0m\u001b[1;33m\u001b[0m\u001b[0m\n\u001b[0;32m   3389\u001b[0m             \u001b[0mline_terminator\u001b[0m\u001b[1;33m=\u001b[0m\u001b[0mline_terminator\u001b[0m\u001b[1;33m,\u001b[0m\u001b[1;33m\u001b[0m\u001b[1;33m\u001b[0m\u001b[0m\n",
      "\u001b[1;32m~\\anaconda3\\lib\\site-packages\\pandas\\io\\formats\\format.py\u001b[0m in \u001b[0;36mto_csv\u001b[1;34m(self, path_or_buf, encoding, sep, columns, index_label, mode, compression, quoting, quotechar, line_terminator, chunksize, date_format, doublequote, escapechar, errors, storage_options)\u001b[0m\n\u001b[0;32m   1081\u001b[0m             \u001b[0mformatter\u001b[0m\u001b[1;33m=\u001b[0m\u001b[0mself\u001b[0m\u001b[1;33m.\u001b[0m\u001b[0mfmt\u001b[0m\u001b[1;33m,\u001b[0m\u001b[1;33m\u001b[0m\u001b[1;33m\u001b[0m\u001b[0m\n\u001b[0;32m   1082\u001b[0m         )\n\u001b[1;32m-> 1083\u001b[1;33m         \u001b[0mcsv_formatter\u001b[0m\u001b[1;33m.\u001b[0m\u001b[0msave\u001b[0m\u001b[1;33m(\u001b[0m\u001b[1;33m)\u001b[0m\u001b[1;33m\u001b[0m\u001b[1;33m\u001b[0m\u001b[0m\n\u001b[0m\u001b[0;32m   1084\u001b[0m \u001b[1;33m\u001b[0m\u001b[0m\n\u001b[0;32m   1085\u001b[0m         \u001b[1;32mif\u001b[0m \u001b[0mcreated_buffer\u001b[0m\u001b[1;33m:\u001b[0m\u001b[1;33m\u001b[0m\u001b[1;33m\u001b[0m\u001b[0m\n",
      "\u001b[1;32m~\\anaconda3\\lib\\site-packages\\pandas\\io\\formats\\csvs.py\u001b[0m in \u001b[0;36msave\u001b[1;34m(self)\u001b[0m\n\u001b[0;32m    226\u001b[0m         \"\"\"\n\u001b[0;32m    227\u001b[0m         \u001b[1;31m# apply compression and byte/text conversion\u001b[0m\u001b[1;33m\u001b[0m\u001b[1;33m\u001b[0m\u001b[1;33m\u001b[0m\u001b[0m\n\u001b[1;32m--> 228\u001b[1;33m         with get_handle(\n\u001b[0m\u001b[0;32m    229\u001b[0m             \u001b[0mself\u001b[0m\u001b[1;33m.\u001b[0m\u001b[0mfilepath_or_buffer\u001b[0m\u001b[1;33m,\u001b[0m\u001b[1;33m\u001b[0m\u001b[1;33m\u001b[0m\u001b[0m\n\u001b[0;32m    230\u001b[0m             \u001b[0mself\u001b[0m\u001b[1;33m.\u001b[0m\u001b[0mmode\u001b[0m\u001b[1;33m,\u001b[0m\u001b[1;33m\u001b[0m\u001b[1;33m\u001b[0m\u001b[0m\n",
      "\u001b[1;32m~\\anaconda3\\lib\\site-packages\\pandas\\io\\common.py\u001b[0m in \u001b[0;36mget_handle\u001b[1;34m(path_or_buf, mode, encoding, compression, memory_map, is_text, errors, storage_options)\u001b[0m\n\u001b[0;32m    640\u001b[0m                 \u001b[0merrors\u001b[0m \u001b[1;33m=\u001b[0m \u001b[1;34m\"replace\"\u001b[0m\u001b[1;33m\u001b[0m\u001b[1;33m\u001b[0m\u001b[0m\n\u001b[0;32m    641\u001b[0m             \u001b[1;31m# Encoding\u001b[0m\u001b[1;33m\u001b[0m\u001b[1;33m\u001b[0m\u001b[1;33m\u001b[0m\u001b[0m\n\u001b[1;32m--> 642\u001b[1;33m             handle = open(\n\u001b[0m\u001b[0;32m    643\u001b[0m                 \u001b[0mhandle\u001b[0m\u001b[1;33m,\u001b[0m\u001b[1;33m\u001b[0m\u001b[1;33m\u001b[0m\u001b[0m\n\u001b[0;32m    644\u001b[0m                 \u001b[0mioargs\u001b[0m\u001b[1;33m.\u001b[0m\u001b[0mmode\u001b[0m\u001b[1;33m,\u001b[0m\u001b[1;33m\u001b[0m\u001b[1;33m\u001b[0m\u001b[0m\n",
      "\u001b[1;31mFileNotFoundError\u001b[0m: [Errno 2] No such file or directory: 'lab02_data_preparation\\\\ew_data\\\\set1_symbolic_to_numeric.csv'"
     ]
    }
   ],
   "source": [
    "complaint_encode = { # how severe are the complaints\n",
    "    'Complaint of Pain or Nausea': 1,\n",
    "    'Minor Bleeding':2,\n",
    "    'None Visible': 0,\n",
    "    'Contusion - Bruise': 2,\n",
    "    'Severe Bleeding': 7,\n",
    "    'Internal': 6,\n",
    "    'Severe Lacerations':7,\n",
    "    'Abrasion': 2,\n",
    "    'Fracture - Distorted - Dislocation': 4,\n",
    "    'Whiplash': 2, #passes after some weeks\n",
    "    'Unknown': nan,\n",
    "    'Concussion': 10,\n",
    "    'Crush Injuries': 6,\n",
    "    'Minor Burn': 2,\n",
    "    'Paralysis': 9,\n",
    "    'Amputation': 7,\n",
    "    'Moderate Burn': 4,\n",
    "    'Severe Burn': 6,\n",
    "    'Does Not Apply': nan\n",
    "}\n",
    "data[\"COMPLAINT\"].replace(complaint_encode, inplace=True)\n",
    "\n",
    "emotion_status_encode = { # how well is the person emotionally\n",
    "    'Conscious':10,\n",
    "    'Apparent Death': 0,\n",
    "    'Semiconscious': 4,\n",
    "    'Shock': 8,\n",
    "    'Unknown': nan,\n",
    "    'Unconscious': 2,\n",
    "    'Incoherent': 7,\n",
    "    'Does Not Apply': nan\n",
    "}\n",
    "data[\"EMOTIONAL_STATUS\"].replace(emotion_status_encode, inplace=True)\n",
    "\n",
    "safety_equipment_encode = { # how secure is the equipement\n",
    "    'Lap Belt & Harness': 10,\n",
    "    'Helmet (Motorcycle Only)': 1,\n",
    "    'Air Bag Deployed/Lap Belt/Harness':10,\n",
    "    'Unknown':nan,\n",
    "    'None': 0,\n",
    "    'Lap Belt':10,\n",
    "    'Helmet Only (In-Line Skater/Bicyclist)': 1,\n",
    "    'Child Restraint Only': 7,\n",
    "    'Helmet/Other (In-Line Skater/Bicyclist)':5,\n",
    "    'Air Bag Deployed/Child Restraint':10,\n",
    "    'Air Bag Deployed': 3,\n",
    "    'Other': 5,\n",
    "    'Harness': 10,\n",
    "    'Air Bag Deployed/Lap Belt': 10,\n",
    "    'Pads Only (In-Line Skater/Bicyclist)': 4,\n",
    "    'Stoppers Only (In-Line Skater/Bicyclist)': 1\n",
    "}\n",
    "#data[\"SAFETY_EQUIPMENT\"].replace(safety_equipment_encode, inplace=True)\n",
    "data.to_csv('lab02_data_preparation\\ew_data\\set1_symbolic_to_numeric.csv', index=False)\n",
    "# lab02_data_preparation\\ew_data"
   ]
  },
  {
   "cell_type": "code",
   "execution_count": null,
   "metadata": {},
   "outputs": [
    {
     "data": {
      "text/plain": [
       "Index(['CRASH_TIME', 'PERSON_AGE', 'BODILY_INJURY', 'SAFETY_EQUIPMENT',\n",
       "       'PERSON_SEX', 'PERSON_TYPE', 'PED_LOCATION', 'CONTRIBUTING_FACTOR_2',\n",
       "       'EJECTION', 'COMPLAINT', 'EMOTIONAL_STATUS', 'VEHICLE_ID', 'PERSON_ID',\n",
       "       'CONTRIBUTING_FACTOR_1', 'POSITION_IN_VEHICLE', 'PED_ROLE', 'UNIQUE_ID',\n",
       "       'PED_ACTION', 'COLLISION_ID', 'PERSON_INJURY', 'CRASH_MONTH',\n",
       "       'CRASH_DAY'],\n",
       "      dtype='object')"
      ]
     },
     "execution_count": 5,
     "metadata": {},
     "output_type": "execute_result"
    }
   ],
   "source": [
    "data.columns"
   ]
  },
  {
   "cell_type": "code",
   "execution_count": null,
   "metadata": {},
   "outputs": [],
   "source": []
  }
 ],
 "metadata": {
  "interpreter": {
   "hash": "31f2aee4e71d21fbe5cf8b01ff0e069b9275f58929596ceb00d14d90e3e16cd6"
  },
  "kernelspec": {
   "display_name": "Python 3.8.10 64-bit",
   "language": "python",
   "name": "python3"
  },
  "language_info": {
   "codemirror_mode": {
    "name": "ipython",
    "version": 3
   },
   "file_extension": ".py",
   "mimetype": "text/x-python",
   "name": "python",
   "nbconvert_exporter": "python",
   "pygments_lexer": "ipython3",
   "version": "3.8.8"
  },
  "orig_nbformat": 4
 },
 "nbformat": 4,
 "nbformat_minor": 2
}
