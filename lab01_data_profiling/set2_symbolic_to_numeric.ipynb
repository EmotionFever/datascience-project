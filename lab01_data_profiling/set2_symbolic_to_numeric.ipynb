{
 "cells": [
  {
   "cell_type": "code",
   "execution_count": 14,
   "metadata": {},
   "outputs": [],
   "source": [
    "from pandas import read_csv\n",
    "from pandas.plotting import register_matplotlib_converters\n",
    "from matplotlib.pyplot import subplots, savefig, show\n",
    "from ds_charts import get_variable_types, HEIGHT\n",
    "from matplotlib.pyplot import figure, savefig, show, title"
   ]
  },
  {
   "cell_type": "code",
   "execution_count": 15,
   "metadata": {},
   "outputs": [],
   "source": [
    "register_matplotlib_converters()\n",
    "filename = \"data/set2_air_quality_tabular.csv\"\n",
    "data = read_csv(filename, parse_dates=['date'], infer_datetime_format=True)"
   ]
  },
  {
   "cell_type": "code",
   "execution_count": 16,
   "metadata": {},
   "outputs": [],
   "source": [
    "data['ALARM'] = data['ALARM'].astype('category').cat.codes\n",
    "data['hour'] = data['date'].dt.month\n",
    "data['day'] = data['date'].dt.day\n",
    "data['year'] = data['date'].dt.year"
   ]
  },
  {
   "cell_type": "code",
   "execution_count": 18,
   "metadata": {},
   "outputs": [],
   "source": [
    "filename = \"data/pop_chinesse_cities.csv\"\n",
    "data_pop = read_csv(filename)\n",
    "data_pop[\"name\"] = data_pop[\"name\"].str.replace(' City','').str.lower()\n",
    "data['City_EN'] = data['City_EN'].str.lower()"
   ]
  },
  {
   "cell_type": "code",
   "execution_count": 24,
   "metadata": {},
   "outputs": [
    {
     "name": "stdout",
     "output_type": "stream",
     "text": [
      "371\n",
      "400\n"
     ]
    },
    {
     "data": {
      "text/plain": [
       "FID             int64\n",
       "Prov_EN        object\n",
       "GbCity         object\n",
       "GbProv          int64\n",
       "Field_1       float64\n",
       "ALARM            int8\n",
       "CO_Mean       float64\n",
       "CO_Min        float64\n",
       "CO_Max        float64\n",
       "CO_Std        float64\n",
       "NO2_Mean      float64\n",
       "NO2_Min       float64\n",
       "NO2_Max       float64\n",
       "NO2_Std       float64\n",
       "O3_Mean       float64\n",
       "O3_Min        float64\n",
       "O3_Max        float64\n",
       "O3_Std        float64\n",
       "PM2.5_Mean    float64\n",
       "PM2.5_Min     float64\n",
       "PM2.5_Max     float64\n",
       "PM2.5_Std     float64\n",
       "PM10_Mean     float64\n",
       "PM10_Min      float64\n",
       "PM10_Max      float64\n",
       "PM10_Std      float64\n",
       "SO2_Mean      float64\n",
       "SO2_Min       float64\n",
       "SO2_Max       float64\n",
       "SO2_Std       float64\n",
       "hour            int64\n",
       "day             int64\n",
       "year            int64\n",
       "City_EN         int64\n",
       "dtype: object"
      ]
     },
     "execution_count": 24,
     "metadata": {},
     "output_type": "execute_result"
    }
   ],
   "source": [
    "print(len(data['City_EN'].unique()))\n",
    "print(len(data_pop))\n",
    "new_data = data.merge(data_pop, left_on='City_EN', right_on='name')\n",
    "new_data.drop(columns=['City_EN','date','name'], inplace=True)\n",
    "new_data.rename(columns={\"2021\": \"City_EN\"}, inplace=True)\n",
    "\n",
    "new_data.dtypes"
   ]
  },
  {
   "cell_type": "code",
   "execution_count": 23,
   "metadata": {},
   "outputs": [],
   "source": [
    "new_data.to_csv('new_data/set2_symbolic_to_numeric.csv', index=False)"
   ]
  }
 ],
 "metadata": {
  "interpreter": {
   "hash": "31f2aee4e71d21fbe5cf8b01ff0e069b9275f58929596ceb00d14d90e3e16cd6"
  },
  "kernelspec": {
   "display_name": "Python 3.8.10 64-bit",
   "language": "python",
   "name": "python3"
  },
  "language_info": {
   "codemirror_mode": {
    "name": "ipython",
    "version": 3
   },
   "file_extension": ".py",
   "mimetype": "text/x-python",
   "name": "python",
   "nbconvert_exporter": "python",
   "pygments_lexer": "ipython3",
   "version": "3.8.10"
  },
  "orig_nbformat": 4
 },
 "nbformat": 4,
 "nbformat_minor": 2
}
